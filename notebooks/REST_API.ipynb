{
 "metadata": {
  "language_info": {
   "codemirror_mode": {
    "name": "ipython",
    "version": 3
   },
   "file_extension": ".py",
   "mimetype": "text/x-python",
   "name": "python",
   "nbconvert_exporter": "python",
   "pygments_lexer": "ipython3",
   "version": "3.6.9-final"
  },
  "orig_nbformat": 2,
  "kernelspec": {
   "name": "Python 3.6.9 64-bit ('aif360': conda)",
   "display_name": "Python 3.6.9 64-bit ('aif360': conda)",
   "metadata": {
    "interpreter": {
     "hash": "996e79ce3a213d68acdf6a8463f52dc3e1398788aa44af8a2e14e7450e35587b"
    }
   }
  }
 },
 "nbformat": 4,
 "nbformat_minor": 2,
 "cells": [
  {
   "source": [
    "## Calling the REST API\n",
    "\n"
   ],
   "cell_type": "markdown",
   "metadata": {}
  },
  {
   "cell_type": "code",
   "execution_count": 1,
   "metadata": {},
   "outputs": [
    {
     "output_type": "execute_result",
     "data": {
      "text/plain": [
       "'{\"charge_code\": \"Drug trafficking\", \"race\": \"Black\", \"gender\": \"Male\", \"controlled_substance_quantity_level\": 6}'"
      ]
     },
     "metadata": {},
     "execution_count": 1
    }
   ],
   "source": [
    "import json\n",
    "import requests\n",
    "\n",
    "req = {'charge_code': 'Drug trafficking',\n",
    "       'race': 'Black',\n",
    "       'gender': 'Male',\n",
    "       'controlled_substance_quantity_level': 6,\n",
    "}\n",
    "req = json.dumps(req)\n",
    "req"
   ]
  },
  {
   "cell_type": "code",
   "execution_count": 2,
   "metadata": {},
   "outputs": [
    {
     "output_type": "execute_result",
     "data": {
      "text/plain": [
       "{'charge_code': 'Drug trafficking',\n",
       " 'controlled_substance_quantity_level': 6,\n",
       " 'deviations': [{'charge_code': 'Drug trafficking',\n",
       "   'sentence_deviations': [{'commitmentTerm': 39.72043010752688,\n",
       "     'commitmentUnit': 'Months',\n",
       "     'sentence_type': 'Prison Only'}]}],\n",
       " 'gender': 'Male',\n",
       " 'race': 'Black',\n",
       " 'success': True}"
      ]
     },
     "metadata": {},
     "execution_count": 2
    }
   ],
   "source": [
    "url = 'http://localhost:3000/sentencing-disparity'\n",
    "\n",
    "resp = requests.post(url, data=req, headers={'content-type': 'application/json'})\n",
    "resp.json()"
   ]
  }
 ]
}