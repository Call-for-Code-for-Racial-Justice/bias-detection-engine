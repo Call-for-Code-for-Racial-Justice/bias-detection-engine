{
 "metadata": {
  "language_info": {
   "codemirror_mode": {
    "name": "ipython",
    "version": 3
   },
   "file_extension": ".py",
   "mimetype": "text/x-python",
   "name": "python",
   "nbconvert_exporter": "python",
   "pygments_lexer": "ipython3",
   "version": "3.6.9-final"
  },
  "orig_nbformat": 2,
  "kernelspec": {
   "name": "Python 3.6.9 64-bit",
   "display_name": "Python 3.6.9 64-bit",
   "metadata": {
    "interpreter": {
     "hash": "996e79ce3a213d68acdf6a8463f52dc3e1398788aa44af8a2e14e7450e35587b"
    }
   }
  }
 },
 "nbformat": 4,
 "nbformat_minor": 2,
 "cells": [
  {
   "cell_type": "markdown",
   "metadata": {},
   "source": [
    "# Bias Detection Engine Demo: Open Sentencing"
   ]
  },
  {
   "cell_type": "code",
   "execution_count": 1,
   "metadata": {
    "tags": []
   },
   "outputs": [
    {
     "output_type": "stream",
     "name": "stderr",
     "text": [
      "The specified config.json file /Users/shoffman/Projects/External/embrace-call-for-code/bias-detection-engine/notebooks/server/config/mappings.json does not exist\n"
     ]
    }
   ],
   "source": [
    "import sys\n",
    "sys.path.append('..')\n",
    "import matplotlib.pyplot as plt\n",
    "import numpy as np\n",
    "import pandas as pd\n",
    "import seaborn as sns\n",
    "\n",
    "from server.routes.engine import *  # bias_table, bias_grid, consistency_table, filter_bias"
   ]
  },
  {
   "cell_type": "code",
   "execution_count": 2,
   "metadata": {},
   "outputs": [
    {
     "output_type": "execute_result",
     "data": {
      "text/plain": [
       "                                         Alleged Crime Alleged Crime Category  \\\n",
       "Case ID Race     Gender Citizenship                                             \n",
       "10000   Other    Female U.S. Citizen  Drug trafficking                 Felony   \n",
       "10001   Hispanic Male   U.S. Citizen  Drug trafficking                 Felony   \n",
       "10002   Black    Female U.S. Citizen  Drug trafficking                 Felony   \n",
       "10003   White    Female U.S. Citizen  Drug trafficking                 Felony   \n",
       "10004   White    Male   U.S. Citizen  Drug trafficking                 Felony   \n",
       "...                                                ...                    ...   \n",
       "70388   Other    Female U.S. Citizen  Drug trafficking                 Felony   \n",
       "70389   Hispanic Female U.S. Citizen  Drug trafficking                 Felony   \n",
       "70390   White    Female U.S. Citizen  Drug trafficking                 Felony   \n",
       "70391   White    Male   U.S. Citizen  Drug trafficking                 Felony   \n",
       "70392   Hispanic Female U.S. Citizen  Drug trafficking                 Felony   \n",
       "\n",
       "                                     Alleged Crime Reported  \\\n",
       "Case ID Race     Gender Citizenship                           \n",
       "10000   Other    Female U.S. Citizen          Investigation   \n",
       "10001   Hispanic Male   U.S. Citizen          Investigation   \n",
       "10002   Black    Female U.S. Citizen          Investigation   \n",
       "10003   White    Female U.S. Citizen          Investigation   \n",
       "10004   White    Male   U.S. Citizen          Investigation   \n",
       "...                                                     ...   \n",
       "70388   Other    Female U.S. Citizen          Investigation   \n",
       "70389   Hispanic Female U.S. Citizen          Investigation   \n",
       "70390   White    Female U.S. Citizen          Investigation   \n",
       "70391   White    Male   U.S. Citizen          Investigation   \n",
       "70392   Hispanic Female U.S. Citizen          Investigation   \n",
       "\n",
       "                                                     Investigation  \\\n",
       "Case ID Race     Gender Citizenship                                  \n",
       "10000   Other    Female U.S. Citizen  Unsolved or not arrested OUT   \n",
       "10001   Hispanic Male   U.S. Citizen  Unsolved or not arrested OUT   \n",
       "10002   Black    Female U.S. Citizen  Unsolved or not arrested OUT   \n",
       "10003   White    Female U.S. Citizen                        Arrest   \n",
       "10004   White    Male   U.S. Citizen                        Arrest   \n",
       "...                                                            ...   \n",
       "70388   Other    Female U.S. Citizen                        Arrest   \n",
       "70389   Hispanic Female U.S. Citizen  Unsolved or not arrested OUT   \n",
       "70390   White    Female U.S. Citizen                        Arrest   \n",
       "70391   White    Male   U.S. Citizen                        Arrest   \n",
       "70392   Hispanic Female U.S. Citizen                        Arrest   \n",
       "\n",
       "                                             Arrest             Charges filed  \\\n",
       "Case ID Race     Gender Citizenship                                             \n",
       "10000   Other    Female U.S. Citizen            NaN                       NaN   \n",
       "10001   Hispanic Male   U.S. Citizen            NaN                       NaN   \n",
       "10002   Black    Female U.S. Citizen            NaN                       NaN   \n",
       "10003   White    Female U.S. Citizen  Charges filed  Court initial appearance   \n",
       "10004   White    Male   U.S. Citizen   Released OUT                       NaN   \n",
       "...                                             ...                       ...   \n",
       "70388   Other    Female U.S. Citizen  Charges filed  Court initial appearance   \n",
       "70389   Hispanic Female U.S. Citizen            NaN                       NaN   \n",
       "70390   White    Female U.S. Citizen  Charges filed  Court initial appearance   \n",
       "70391   White    Male   U.S. Citizen  Charges filed  Court initial appearance   \n",
       "70392   Hispanic Female U.S. Citizen  Charges filed  Court initial appearance   \n",
       "\n",
       "                                     Diversion  \\\n",
       "Case ID Race     Gender Citizenship              \n",
       "10000   Other    Female U.S. Citizen       NaN   \n",
       "10001   Hispanic Male   U.S. Citizen       NaN   \n",
       "10002   Black    Female U.S. Citizen       NaN   \n",
       "10003   White    Female U.S. Citizen       NaN   \n",
       "10004   White    Male   U.S. Citizen       NaN   \n",
       "...                                        ...   \n",
       "70388   Other    Female U.S. Citizen       NaN   \n",
       "70389   Hispanic Female U.S. Citizen       NaN   \n",
       "70390   White    Female U.S. Citizen       NaN   \n",
       "70391   White    Male   U.S. Citizen       NaN   \n",
       "70392   Hispanic Female U.S. Citizen       NaN   \n",
       "\n",
       "                                              Court initial appearance  \\\n",
       "Case ID Race     Gender Citizenship                                      \n",
       "10000   Other    Female U.S. Citizen                               NaN   \n",
       "10001   Hispanic Male   U.S. Citizen                               NaN   \n",
       "10002   Black    Female U.S. Citizen                               NaN   \n",
       "10003   White    Female U.S. Citizen  Charges dropped or dismissed OUT   \n",
       "10004   White    Male   U.S. Citizen                               NaN   \n",
       "...                                                                ...   \n",
       "70388   Other    Female U.S. Citizen       Move to preliminary hearing   \n",
       "70389   Hispanic Female U.S. Citizen                               NaN   \n",
       "70390   White    Female U.S. Citizen  Charges dropped or dismissed OUT   \n",
       "70391   White    Male   U.S. Citizen  Charges dropped or dismissed OUT   \n",
       "70392   Hispanic Female U.S. Citizen       Move to preliminary hearing   \n",
       "\n",
       "                                            Preliminary hearing  \\\n",
       "Case ID Race     Gender Citizenship                               \n",
       "10000   Other    Female U.S. Citizen                        NaN   \n",
       "10001   Hispanic Male   U.S. Citizen                        NaN   \n",
       "10002   Black    Female U.S. Citizen                        NaN   \n",
       "10003   White    Female U.S. Citizen                        NaN   \n",
       "10004   White    Male   U.S. Citizen                        NaN   \n",
       "...                                                         ...   \n",
       "70388   Other    Female U.S. Citizen  Bail or detention hearing   \n",
       "70389   Hispanic Female U.S. Citizen                        NaN   \n",
       "70390   White    Female U.S. Citizen                        NaN   \n",
       "70391   White    Male   U.S. Citizen                        NaN   \n",
       "70392   Hispanic Female U.S. Citizen  Bail or detention hearing   \n",
       "\n",
       "                                        Bail or detention hearing Grand jury  \\\n",
       "Case ID Race     Gender Citizenship                                            \n",
       "10000   Other    Female U.S. Citizen                          NaN        NaN   \n",
       "10001   Hispanic Male   U.S. Citizen                          NaN        NaN   \n",
       "10002   Black    Female U.S. Citizen                          NaN        NaN   \n",
       "10003   White    Female U.S. Citizen                          NaN        NaN   \n",
       "10004   White    Male   U.S. Citizen                          NaN        NaN   \n",
       "...                                                           ...        ...   \n",
       "70388   Other    Female U.S. Citizen  Move to collect information        NaN   \n",
       "70389   Hispanic Female U.S. Citizen                          NaN        NaN   \n",
       "70390   White    Female U.S. Citizen                          NaN        NaN   \n",
       "70391   White    Male   U.S. Citizen                          NaN        NaN   \n",
       "70392   Hispanic Female U.S. Citizen  Move to collect information        NaN   \n",
       "\n",
       "                                     Information stage   Arraignment  \\\n",
       "Case ID Race     Gender Citizenship                                    \n",
       "10000   Other    Female U.S. Citizen               NaN           NaN   \n",
       "10001   Hispanic Male   U.S. Citizen               NaN           NaN   \n",
       "10002   Black    Female U.S. Citizen               NaN           NaN   \n",
       "10003   White    Female U.S. Citizen               NaN           NaN   \n",
       "10004   White    Male   U.S. Citizen               NaN           NaN   \n",
       "...                                                ...           ...   \n",
       "70388   Other    Female U.S. Citizen       Arraignment  Plea bargain   \n",
       "70389   Hispanic Female U.S. Citizen               NaN           NaN   \n",
       "70390   White    Female U.S. Citizen               NaN           NaN   \n",
       "70391   White    Male   U.S. Citizen               NaN           NaN   \n",
       "70392   Hispanic Female U.S. Citizen       Arraignment  Plea bargain   \n",
       "\n",
       "                                     Plea bargain Trial   Convicted  \\\n",
       "Case ID Race     Gender Citizenship                                   \n",
       "10000   Other    Female U.S. Citizen          NaN   NaN         NaN   \n",
       "10001   Hispanic Male   U.S. Citizen          NaN   NaN         NaN   \n",
       "10002   Black    Female U.S. Citizen          NaN   NaN         NaN   \n",
       "10003   White    Female U.S. Citizen          NaN   NaN         NaN   \n",
       "10004   White    Male   U.S. Citizen          NaN   NaN         NaN   \n",
       "...                                           ...   ...         ...   \n",
       "70388   Other    Female U.S. Citizen    Convicted   NaN  Sentencing   \n",
       "70389   Hispanic Female U.S. Citizen          NaN   NaN         NaN   \n",
       "70390   White    Female U.S. Citizen          NaN   NaN         NaN   \n",
       "70391   White    Male   U.S. Citizen          NaN   NaN         NaN   \n",
       "70392   Hispanic Female U.S. Citizen    Convicted   NaN  Sentencing   \n",
       "\n",
       "                                                   Sentencing  \n",
       "Case ID Race     Gender Citizenship                            \n",
       "10000   Other    Female U.S. Citizen                      NaN  \n",
       "10001   Hispanic Male   U.S. Citizen                      NaN  \n",
       "10002   Black    Female U.S. Citizen                      NaN  \n",
       "10003   White    Female U.S. Citizen                      NaN  \n",
       "10004   White    Male   U.S. Citizen                      NaN  \n",
       "...                                                       ...  \n",
       "70388   Other    Female U.S. Citizen  Prison and alternatives  \n",
       "70389   Hispanic Female U.S. Citizen                      NaN  \n",
       "70390   White    Female U.S. Citizen                      NaN  \n",
       "70391   White    Male   U.S. Citizen                      NaN  \n",
       "70392   Hispanic Female U.S. Citizen              Prison only  \n",
       "\n",
       "[60393 rows x 17 columns]"
      ],
      "text/html": "<div>\n<style scoped>\n    .dataframe tbody tr th:only-of-type {\n        vertical-align: middle;\n    }\n\n    .dataframe tbody tr th {\n        vertical-align: top;\n    }\n\n    .dataframe thead th {\n        text-align: right;\n    }\n</style>\n<table border=\"1\" class=\"dataframe\">\n  <thead>\n    <tr style=\"text-align: right;\">\n      <th></th>\n      <th></th>\n      <th></th>\n      <th></th>\n      <th>Alleged Crime</th>\n      <th>Alleged Crime Category</th>\n      <th>Alleged Crime Reported</th>\n      <th>Investigation</th>\n      <th>Arrest</th>\n      <th>Charges filed</th>\n      <th>Diversion</th>\n      <th>Court initial appearance</th>\n      <th>Preliminary hearing</th>\n      <th>Bail or detention hearing</th>\n      <th>Grand jury</th>\n      <th>Information stage</th>\n      <th>Arraignment</th>\n      <th>Plea bargain</th>\n      <th>Trial</th>\n      <th>Convicted</th>\n      <th>Sentencing</th>\n    </tr>\n    <tr>\n      <th>Case ID</th>\n      <th>Race</th>\n      <th>Gender</th>\n      <th>Citizenship</th>\n      <th></th>\n      <th></th>\n      <th></th>\n      <th></th>\n      <th></th>\n      <th></th>\n      <th></th>\n      <th></th>\n      <th></th>\n      <th></th>\n      <th></th>\n      <th></th>\n      <th></th>\n      <th></th>\n      <th></th>\n      <th></th>\n      <th></th>\n    </tr>\n  </thead>\n  <tbody>\n    <tr>\n      <th>10000</th>\n      <th>Other</th>\n      <th>Female</th>\n      <th>U.S. Citizen</th>\n      <td>Drug trafficking</td>\n      <td>Felony</td>\n      <td>Investigation</td>\n      <td>Unsolved or not arrested OUT</td>\n      <td>NaN</td>\n      <td>NaN</td>\n      <td>NaN</td>\n      <td>NaN</td>\n      <td>NaN</td>\n      <td>NaN</td>\n      <td>NaN</td>\n      <td>NaN</td>\n      <td>NaN</td>\n      <td>NaN</td>\n      <td>NaN</td>\n      <td>NaN</td>\n      <td>NaN</td>\n    </tr>\n    <tr>\n      <th>10001</th>\n      <th>Hispanic</th>\n      <th>Male</th>\n      <th>U.S. Citizen</th>\n      <td>Drug trafficking</td>\n      <td>Felony</td>\n      <td>Investigation</td>\n      <td>Unsolved or not arrested OUT</td>\n      <td>NaN</td>\n      <td>NaN</td>\n      <td>NaN</td>\n      <td>NaN</td>\n      <td>NaN</td>\n      <td>NaN</td>\n      <td>NaN</td>\n      <td>NaN</td>\n      <td>NaN</td>\n      <td>NaN</td>\n      <td>NaN</td>\n      <td>NaN</td>\n      <td>NaN</td>\n    </tr>\n    <tr>\n      <th>10002</th>\n      <th>Black</th>\n      <th>Female</th>\n      <th>U.S. Citizen</th>\n      <td>Drug trafficking</td>\n      <td>Felony</td>\n      <td>Investigation</td>\n      <td>Unsolved or not arrested OUT</td>\n      <td>NaN</td>\n      <td>NaN</td>\n      <td>NaN</td>\n      <td>NaN</td>\n      <td>NaN</td>\n      <td>NaN</td>\n      <td>NaN</td>\n      <td>NaN</td>\n      <td>NaN</td>\n      <td>NaN</td>\n      <td>NaN</td>\n      <td>NaN</td>\n      <td>NaN</td>\n    </tr>\n    <tr>\n      <th>10003</th>\n      <th>White</th>\n      <th>Female</th>\n      <th>U.S. Citizen</th>\n      <td>Drug trafficking</td>\n      <td>Felony</td>\n      <td>Investigation</td>\n      <td>Arrest</td>\n      <td>Charges filed</td>\n      <td>Court initial appearance</td>\n      <td>NaN</td>\n      <td>Charges dropped or dismissed OUT</td>\n      <td>NaN</td>\n      <td>NaN</td>\n      <td>NaN</td>\n      <td>NaN</td>\n      <td>NaN</td>\n      <td>NaN</td>\n      <td>NaN</td>\n      <td>NaN</td>\n      <td>NaN</td>\n    </tr>\n    <tr>\n      <th>10004</th>\n      <th>White</th>\n      <th>Male</th>\n      <th>U.S. Citizen</th>\n      <td>Drug trafficking</td>\n      <td>Felony</td>\n      <td>Investigation</td>\n      <td>Arrest</td>\n      <td>Released OUT</td>\n      <td>NaN</td>\n      <td>NaN</td>\n      <td>NaN</td>\n      <td>NaN</td>\n      <td>NaN</td>\n      <td>NaN</td>\n      <td>NaN</td>\n      <td>NaN</td>\n      <td>NaN</td>\n      <td>NaN</td>\n      <td>NaN</td>\n      <td>NaN</td>\n    </tr>\n    <tr>\n      <th>...</th>\n      <th>...</th>\n      <th>...</th>\n      <th>...</th>\n      <td>...</td>\n      <td>...</td>\n      <td>...</td>\n      <td>...</td>\n      <td>...</td>\n      <td>...</td>\n      <td>...</td>\n      <td>...</td>\n      <td>...</td>\n      <td>...</td>\n      <td>...</td>\n      <td>...</td>\n      <td>...</td>\n      <td>...</td>\n      <td>...</td>\n      <td>...</td>\n      <td>...</td>\n    </tr>\n    <tr>\n      <th>70388</th>\n      <th>Other</th>\n      <th>Female</th>\n      <th>U.S. Citizen</th>\n      <td>Drug trafficking</td>\n      <td>Felony</td>\n      <td>Investigation</td>\n      <td>Arrest</td>\n      <td>Charges filed</td>\n      <td>Court initial appearance</td>\n      <td>NaN</td>\n      <td>Move to preliminary hearing</td>\n      <td>Bail or detention hearing</td>\n      <td>Move to collect information</td>\n      <td>NaN</td>\n      <td>Arraignment</td>\n      <td>Plea bargain</td>\n      <td>Convicted</td>\n      <td>NaN</td>\n      <td>Sentencing</td>\n      <td>Prison and alternatives</td>\n    </tr>\n    <tr>\n      <th>70389</th>\n      <th>Hispanic</th>\n      <th>Female</th>\n      <th>U.S. Citizen</th>\n      <td>Drug trafficking</td>\n      <td>Felony</td>\n      <td>Investigation</td>\n      <td>Unsolved or not arrested OUT</td>\n      <td>NaN</td>\n      <td>NaN</td>\n      <td>NaN</td>\n      <td>NaN</td>\n      <td>NaN</td>\n      <td>NaN</td>\n      <td>NaN</td>\n      <td>NaN</td>\n      <td>NaN</td>\n      <td>NaN</td>\n      <td>NaN</td>\n      <td>NaN</td>\n      <td>NaN</td>\n    </tr>\n    <tr>\n      <th>70390</th>\n      <th>White</th>\n      <th>Female</th>\n      <th>U.S. Citizen</th>\n      <td>Drug trafficking</td>\n      <td>Felony</td>\n      <td>Investigation</td>\n      <td>Arrest</td>\n      <td>Charges filed</td>\n      <td>Court initial appearance</td>\n      <td>NaN</td>\n      <td>Charges dropped or dismissed OUT</td>\n      <td>NaN</td>\n      <td>NaN</td>\n      <td>NaN</td>\n      <td>NaN</td>\n      <td>NaN</td>\n      <td>NaN</td>\n      <td>NaN</td>\n      <td>NaN</td>\n      <td>NaN</td>\n    </tr>\n    <tr>\n      <th>70391</th>\n      <th>White</th>\n      <th>Male</th>\n      <th>U.S. Citizen</th>\n      <td>Drug trafficking</td>\n      <td>Felony</td>\n      <td>Investigation</td>\n      <td>Arrest</td>\n      <td>Charges filed</td>\n      <td>Court initial appearance</td>\n      <td>NaN</td>\n      <td>Charges dropped or dismissed OUT</td>\n      <td>NaN</td>\n      <td>NaN</td>\n      <td>NaN</td>\n      <td>NaN</td>\n      <td>NaN</td>\n      <td>NaN</td>\n      <td>NaN</td>\n      <td>NaN</td>\n      <td>NaN</td>\n    </tr>\n    <tr>\n      <th>70392</th>\n      <th>Hispanic</th>\n      <th>Female</th>\n      <th>U.S. Citizen</th>\n      <td>Drug trafficking</td>\n      <td>Felony</td>\n      <td>Investigation</td>\n      <td>Arrest</td>\n      <td>Charges filed</td>\n      <td>Court initial appearance</td>\n      <td>NaN</td>\n      <td>Move to preliminary hearing</td>\n      <td>Bail or detention hearing</td>\n      <td>Move to collect information</td>\n      <td>NaN</td>\n      <td>Arraignment</td>\n      <td>Plea bargain</td>\n      <td>Convicted</td>\n      <td>NaN</td>\n      <td>Sentencing</td>\n      <td>Prison only</td>\n    </tr>\n  </tbody>\n</table>\n<p>60393 rows × 17 columns</p>\n</div>"
     },
     "metadata": {},
     "execution_count": 2
    }
   ],
   "source": [
    "df = pd.read_csv('../data/simulated_data_v0.4.csv', index_col=0).set_index(['Case ID', 'Race', 'Gender', 'Citizenship'])\n",
    "fp = pd.concat([df.pop(c) for c in df.columns if c.startswith('FP')], axis=1)\n",
    "sent = pd.concat([df.pop(c) for c in df.columns[-5:]], axis=1)\n",
    "df"
   ]
  },
  {
   "source": [
    "<img src=\"https://www.bjs.gov/content/downloadchart.cfm\">"
   ],
   "cell_type": "markdown",
   "metadata": {}
  },
  {
   "cell_type": "code",
   "execution_count": 3,
   "metadata": {},
   "outputs": [],
   "source": [
    "subset = df['Alleged Crime'] == 'Drug trafficking'\n",
    "df = df.loc[subset, 'Alleged Crime Reported':]\n",
    "fp = fp.loc[subset]\n",
    "sent = sent.loc[subset]"
   ]
  },
  {
   "cell_type": "code",
   "execution_count": 4,
   "metadata": {
    "tags": []
   },
   "outputs": [
    {
     "output_type": "execute_result",
     "data": {
      "text/plain": [
       "<pandas.io.formats.style.Styler at 0x7fe9b182f860>"
      ],
      "text/html": "<style  type=\"text/css\" >\n    #T_50b3875a_0d43_11eb_8cbb_c4b301ca79fbrow0_col0 {\n            width:  10em;\n             height:  80%;\n            background:  linear-gradient(90deg,#5fba7d 24.9%, transparent 24.9%);\n        }    #T_50b3875a_0d43_11eb_8cbb_c4b301ca79fbrow0_col1 {\n            color:  red;\n        }    #T_50b3875a_0d43_11eb_8cbb_c4b301ca79fbrow0_col2 {\n            color:  red;\n        }    #T_50b3875a_0d43_11eb_8cbb_c4b301ca79fbrow0_col3 {\n            color:  red;\n        }    #T_50b3875a_0d43_11eb_8cbb_c4b301ca79fbrow0_col5 {\n            color:  red;\n        }    #T_50b3875a_0d43_11eb_8cbb_c4b301ca79fbrow0_col6 {\n            color:  red;\n        }    #T_50b3875a_0d43_11eb_8cbb_c4b301ca79fbrow0_col7 {\n            color:  blue;\n        }    #T_50b3875a_0d43_11eb_8cbb_c4b301ca79fbrow0_col8 {\n            color:  blue;\n        }    #T_50b3875a_0d43_11eb_8cbb_c4b301ca79fbrow0_col9 {\n            color:  red;\n        }    #T_50b3875a_0d43_11eb_8cbb_c4b301ca79fbrow0_col10 {\n            color:  red;\n        }    #T_50b3875a_0d43_11eb_8cbb_c4b301ca79fbrow1_col0 {\n            width:  10em;\n             height:  80%;\n            background:  linear-gradient(90deg,#5fba7d 24.9%, transparent 24.9%);\n        }    #T_50b3875a_0d43_11eb_8cbb_c4b301ca79fbrow1_col2 {\n            color:  red;\n        }    #T_50b3875a_0d43_11eb_8cbb_c4b301ca79fbrow1_col10 {\n            color:  red;\n        }    #T_50b3875a_0d43_11eb_8cbb_c4b301ca79fbrow2_col0 {\n            width:  10em;\n             height:  80%;\n            background:  linear-gradient(90deg,#5fba7d 24.9%, transparent 24.9%);\n        }    #T_50b3875a_0d43_11eb_8cbb_c4b301ca79fbrow2_col2 {\n            color:  blue;\n        }    #T_50b3875a_0d43_11eb_8cbb_c4b301ca79fbrow2_col10 {\n            color:  red;\n        }    #T_50b3875a_0d43_11eb_8cbb_c4b301ca79fbrow3_col0 {\n            width:  10em;\n             height:  80%;\n            background:  linear-gradient(90deg,#5fba7d 25.4%, transparent 25.4%);\n        }    #T_50b3875a_0d43_11eb_8cbb_c4b301ca79fbrow3_col1 {\n            color:  blue;\n        }    #T_50b3875a_0d43_11eb_8cbb_c4b301ca79fbrow3_col2 {\n            color:  blue;\n        }    #T_50b3875a_0d43_11eb_8cbb_c4b301ca79fbrow3_col3 {\n            color:  blue;\n        }    #T_50b3875a_0d43_11eb_8cbb_c4b301ca79fbrow3_col4 {\n            color:  red;\n        }    #T_50b3875a_0d43_11eb_8cbb_c4b301ca79fbrow3_col5 {\n            color:  blue;\n        }    #T_50b3875a_0d43_11eb_8cbb_c4b301ca79fbrow3_col6 {\n            color:  blue;\n        }    #T_50b3875a_0d43_11eb_8cbb_c4b301ca79fbrow3_col7 {\n            color:  red;\n        }    #T_50b3875a_0d43_11eb_8cbb_c4b301ca79fbrow3_col8 {\n            color:  red;\n        }    #T_50b3875a_0d43_11eb_8cbb_c4b301ca79fbrow3_col9 {\n            color:  blue;\n        }    #T_50b3875a_0d43_11eb_8cbb_c4b301ca79fbrow3_col10 {\n            color:  blue;\n        }</style><table id=\"T_50b3875a_0d43_11eb_8cbb_c4b301ca79fb\" ><thead>    <tr>        <th class=\"blank level0\" ></th>        <th class=\"col_heading level0 col0\" >proportion of defendants</th>        <th class=\"col_heading level0 col1\" colspan=10>disparate impact</th>    </tr>    <tr>        <th class=\"blank level1\" ></th>        <th class=\"col_heading level1 col0\" ></th>        <th class=\"col_heading level1 col1\" >Arrest -> Released OUT</th>        <th class=\"col_heading level1 col2\" >Bail or detention hearing -> Move to grand jury</th>        <th class=\"col_heading level1 col3\" >Arraignment -> Charges dismissed OUT</th>        <th class=\"col_heading level1 col4\" >Arraignment -> Trial</th>        <th class=\"col_heading level1 col5\" >Arraignment -> Reduction of charge with trial</th>        <th class=\"col_heading level1 col6\" >Sentencing -> Probation and alternatives</th>        <th class=\"col_heading level1 col7\" >Sentencing -> Prison and alternatives</th>        <th class=\"col_heading level1 col8\" >Sentencing -> Prison only</th>        <th class=\"col_heading level1 col9\" >Sentencing -> Probations only</th>        <th class=\"col_heading level1 col10\" >Sentencing -> Fine only</th>    </tr>    <tr>        <th class=\"index_name level0\" >Race</th>        <th class=\"blank\" ></th>        <th class=\"blank\" ></th>        <th class=\"blank\" ></th>        <th class=\"blank\" ></th>        <th class=\"blank\" ></th>        <th class=\"blank\" ></th>        <th class=\"blank\" ></th>        <th class=\"blank\" ></th>        <th class=\"blank\" ></th>        <th class=\"blank\" ></th>        <th class=\"blank\" ></th>    </tr></thead><tbody>\n                <tr>\n                        <th id=\"T_50b3875a_0d43_11eb_8cbb_c4b301ca79fblevel0_row0\" class=\"row_heading level0 row0\" >Black</th>\n                        <td id=\"T_50b3875a_0d43_11eb_8cbb_c4b301ca79fbrow0_col0\" class=\"data row0 col0\" >24.9%</td>\n                        <td id=\"T_50b3875a_0d43_11eb_8cbb_c4b301ca79fbrow0_col1\" class=\"data row0 col1\" >0.609</td>\n                        <td id=\"T_50b3875a_0d43_11eb_8cbb_c4b301ca79fbrow0_col2\" class=\"data row0 col2\" >0.572</td>\n                        <td id=\"T_50b3875a_0d43_11eb_8cbb_c4b301ca79fbrow0_col3\" class=\"data row0 col3\" >0.756</td>\n                        <td id=\"T_50b3875a_0d43_11eb_8cbb_c4b301ca79fbrow0_col4\" class=\"data row0 col4\" >1.023</td>\n                        <td id=\"T_50b3875a_0d43_11eb_8cbb_c4b301ca79fbrow0_col5\" class=\"data row0 col5\" >0.487</td>\n                        <td id=\"T_50b3875a_0d43_11eb_8cbb_c4b301ca79fbrow0_col6\" class=\"data row0 col6\" >0.436</td>\n                        <td id=\"T_50b3875a_0d43_11eb_8cbb_c4b301ca79fbrow0_col7\" class=\"data row0 col7\" >1.269</td>\n                        <td id=\"T_50b3875a_0d43_11eb_8cbb_c4b301ca79fbrow0_col8\" class=\"data row0 col8\" >1.288</td>\n                        <td id=\"T_50b3875a_0d43_11eb_8cbb_c4b301ca79fbrow0_col9\" class=\"data row0 col9\" >0.435</td>\n                        <td id=\"T_50b3875a_0d43_11eb_8cbb_c4b301ca79fbrow0_col10\" class=\"data row0 col10\" >0.685</td>\n            </tr>\n            <tr>\n                        <th id=\"T_50b3875a_0d43_11eb_8cbb_c4b301ca79fblevel0_row1\" class=\"row_heading level0 row1\" >Hispanic</th>\n                        <td id=\"T_50b3875a_0d43_11eb_8cbb_c4b301ca79fbrow1_col0\" class=\"data row1 col0\" >24.9%</td>\n                        <td id=\"T_50b3875a_0d43_11eb_8cbb_c4b301ca79fbrow1_col1\" class=\"data row1 col1\" >0.983</td>\n                        <td id=\"T_50b3875a_0d43_11eb_8cbb_c4b301ca79fbrow1_col2\" class=\"data row1 col2\" >0.486</td>\n                        <td id=\"T_50b3875a_0d43_11eb_8cbb_c4b301ca79fbrow1_col3\" class=\"data row1 col3\" >0.847</td>\n                        <td id=\"T_50b3875a_0d43_11eb_8cbb_c4b301ca79fbrow1_col4\" class=\"data row1 col4\" >1.188</td>\n                        <td id=\"T_50b3875a_0d43_11eb_8cbb_c4b301ca79fbrow1_col5\" class=\"data row1 col5\" >0.934</td>\n                        <td id=\"T_50b3875a_0d43_11eb_8cbb_c4b301ca79fbrow1_col6\" class=\"data row1 col6\" >0.990</td>\n                        <td id=\"T_50b3875a_0d43_11eb_8cbb_c4b301ca79fbrow1_col7\" class=\"data row1 col7\" >1.057</td>\n                        <td id=\"T_50b3875a_0d43_11eb_8cbb_c4b301ca79fbrow1_col8\" class=\"data row1 col8\" >1.039</td>\n                        <td id=\"T_50b3875a_0d43_11eb_8cbb_c4b301ca79fbrow1_col9\" class=\"data row1 col9\" >1.125</td>\n                        <td id=\"T_50b3875a_0d43_11eb_8cbb_c4b301ca79fbrow1_col10\" class=\"data row1 col10\" >0.700</td>\n            </tr>\n            <tr>\n                        <th id=\"T_50b3875a_0d43_11eb_8cbb_c4b301ca79fblevel0_row2\" class=\"row_heading level0 row2\" >Other</th>\n                        <td id=\"T_50b3875a_0d43_11eb_8cbb_c4b301ca79fbrow2_col0\" class=\"data row2 col0\" >24.9%</td>\n                        <td id=\"T_50b3875a_0d43_11eb_8cbb_c4b301ca79fbrow2_col1\" class=\"data row2 col1\" >0.985</td>\n                        <td id=\"T_50b3875a_0d43_11eb_8cbb_c4b301ca79fbrow2_col2\" class=\"data row2 col2\" >1.970</td>\n                        <td id=\"T_50b3875a_0d43_11eb_8cbb_c4b301ca79fbrow2_col3\" class=\"data row2 col3\" >0.803</td>\n                        <td id=\"T_50b3875a_0d43_11eb_8cbb_c4b301ca79fbrow2_col4\" class=\"data row2 col4\" >1.089</td>\n                        <td id=\"T_50b3875a_0d43_11eb_8cbb_c4b301ca79fbrow2_col5\" class=\"data row2 col5\" >0.978</td>\n                        <td id=\"T_50b3875a_0d43_11eb_8cbb_c4b301ca79fbrow2_col6\" class=\"data row2 col6\" >1.138</td>\n                        <td id=\"T_50b3875a_0d43_11eb_8cbb_c4b301ca79fbrow2_col7\" class=\"data row2 col7\" >1.025</td>\n                        <td id=\"T_50b3875a_0d43_11eb_8cbb_c4b301ca79fbrow2_col8\" class=\"data row2 col8\" >1.053</td>\n                        <td id=\"T_50b3875a_0d43_11eb_8cbb_c4b301ca79fbrow2_col9\" class=\"data row2 col9\" >0.995</td>\n                        <td id=\"T_50b3875a_0d43_11eb_8cbb_c4b301ca79fbrow2_col10\" class=\"data row2 col10\" >0.709</td>\n            </tr>\n            <tr>\n                        <th id=\"T_50b3875a_0d43_11eb_8cbb_c4b301ca79fblevel0_row3\" class=\"row_heading level0 row3\" >White</th>\n                        <td id=\"T_50b3875a_0d43_11eb_8cbb_c4b301ca79fbrow3_col0\" class=\"data row3 col0\" >25.4%</td>\n                        <td id=\"T_50b3875a_0d43_11eb_8cbb_c4b301ca79fbrow3_col1\" class=\"data row3 col1\" >1.526</td>\n                        <td id=\"T_50b3875a_0d43_11eb_8cbb_c4b301ca79fbrow3_col2\" class=\"data row3 col2\" >1.413</td>\n                        <td id=\"T_50b3875a_0d43_11eb_8cbb_c4b301ca79fbrow3_col3\" class=\"data row3 col3\" >1.857</td>\n                        <td id=\"T_50b3875a_0d43_11eb_8cbb_c4b301ca79fbrow3_col4\" class=\"data row3 col4\" >0.697</td>\n                        <td id=\"T_50b3875a_0d43_11eb_8cbb_c4b301ca79fbrow3_col5\" class=\"data row3 col5\" >2.002</td>\n                        <td id=\"T_50b3875a_0d43_11eb_8cbb_c4b301ca79fbrow3_col6\" class=\"data row3 col6\" >1.803</td>\n                        <td id=\"T_50b3875a_0d43_11eb_8cbb_c4b301ca79fbrow3_col7\" class=\"data row3 col7\" >0.634</td>\n                        <td id=\"T_50b3875a_0d43_11eb_8cbb_c4b301ca79fbrow3_col8\" class=\"data row3 col8\" >0.608</td>\n                        <td id=\"T_50b3875a_0d43_11eb_8cbb_c4b301ca79fbrow3_col9\" class=\"data row3 col9\" >1.817</td>\n                        <td id=\"T_50b3875a_0d43_11eb_8cbb_c4b301ca79fbrow3_col10\" class=\"data row3 col10\" >2.507</td>\n            </tr>\n    </tbody></table>"
     },
     "metadata": {},
     "execution_count": 4
    }
   ],
   "source": [
    "bias_table(df, 'Race', 'defendants')"
   ]
  },
  {
   "cell_type": "markdown",
   "metadata": {},
   "source": [
    "Closer to 1 is better. Disparate impact < 0.8 implies bias against the transition shown (red), > 1.25 implies bias for the transition (blue)."
   ]
  },
  {
   "source": [
    "TODO: compare \"life\" and parole sentences separately"
   ],
   "cell_type": "markdown",
   "metadata": {}
  },
  {
   "cell_type": "code",
   "execution_count": 5,
   "metadata": {},
   "outputs": [
    {
     "output_type": "execute_result",
     "data": {
      "text/plain": [
       "<pandas.io.formats.style.Styler at 0x7fe9b182f978>"
      ],
      "text/html": "<style  type=\"text/css\" >\n    #T_50c773e6_0d43_11eb_bb38_c4b301ca79fbrow0_col0 {\n            color:  red;\n        }    #T_50c773e6_0d43_11eb_bb38_c4b301ca79fbrow1_col0 {\n            color:  red;\n        }    #T_50c773e6_0d43_11eb_bb38_c4b301ca79fbrow2_col0 {\n            color:  red;\n        }    #T_50c773e6_0d43_11eb_bb38_c4b301ca79fbrow3_col0 {\n            color:  blue;\n        }</style><table id=\"T_50c773e6_0d43_11eb_bb38_c4b301ca79fb\" ><thead>    <tr>        <th class=\"blank level0\" ></th>        <th class=\"col_heading level0 col0\" >Sentencing bias</th>    </tr>    <tr>        <th class=\"index_name level0\" >Race</th>        <th class=\"blank\" ></th>    </tr></thead><tbody>\n                <tr>\n                        <th id=\"T_50c773e6_0d43_11eb_bb38_c4b301ca79fblevel0_row0\" class=\"row_heading level0 row0\" >Black</th>\n                        <td id=\"T_50c773e6_0d43_11eb_bb38_c4b301ca79fbrow0_col0\" class=\"data row0 col0\" >9.22</td>\n            </tr>\n            <tr>\n                        <th id=\"T_50c773e6_0d43_11eb_bb38_c4b301ca79fblevel0_row1\" class=\"row_heading level0 row1\" >Hispanic</th>\n                        <td id=\"T_50c773e6_0d43_11eb_bb38_c4b301ca79fbrow1_col0\" class=\"data row1 col0\" >6.21</td>\n            </tr>\n            <tr>\n                        <th id=\"T_50c773e6_0d43_11eb_bb38_c4b301ca79fblevel0_row2\" class=\"row_heading level0 row2\" >Other</th>\n                        <td id=\"T_50c773e6_0d43_11eb_bb38_c4b301ca79fbrow2_col0\" class=\"data row2 col0\" >9.42</td>\n            </tr>\n            <tr>\n                        <th id=\"T_50c773e6_0d43_11eb_bb38_c4b301ca79fblevel0_row3\" class=\"row_heading level0 row3\" >White</th>\n                        <td id=\"T_50c773e6_0d43_11eb_bb38_c4b301ca79fbrow3_col0\" class=\"data row3 col0\" >-5.41</td>\n            </tr>\n    </tbody></table>"
     },
     "metadata": {},
     "execution_count": 5
    }
   ],
   "source": [
    "subset = df['Sentencing'].str.contains('Prison', case=False, na=False)\n",
    "sent = sent.loc[subset & (sent['Estimated Sentence'] != 'life') & (sent['Given Sentence'] != 'life')].astype(int)\n",
    "mean_difference(sent['Estimated Sentence'], sent['Given Sentence'], 'Race')"
   ]
  },
  {
   "source": [
    "## Individual Fairness -- Fact Patterns"
   ],
   "cell_type": "markdown",
   "metadata": {}
  },
  {
   "cell_type": "code",
   "execution_count": 6,
   "metadata": {},
   "outputs": [
    {
     "output_type": "execute_result",
     "data": {
      "text/plain": [
       "<pandas.io.formats.style.Styler at 0x7fe9acd81b00>"
      ],
      "text/html": "<style  type=\"text/css\" >\n    #T_85a03e4a_0d43_11eb_9439_c4b301ca79fbrow0_col0 {\n            color:  red;\n        }    #T_85a03e4a_0d43_11eb_9439_c4b301ca79fbrow0_col1 {\n            color:  red;\n        }    #T_85a03e4a_0d43_11eb_9439_c4b301ca79fbrow0_col2 {\n            color:  red;\n        }    #T_85a03e4a_0d43_11eb_9439_c4b301ca79fbrow0_col3 {\n            color:  red;\n        }    #T_85a03e4a_0d43_11eb_9439_c4b301ca79fbrow0_col4 {\n            color:  red;\n        }    #T_85a03e4a_0d43_11eb_9439_c4b301ca79fbrow0_col5 {\n            color:  red;\n        }    #T_85a03e4a_0d43_11eb_9439_c4b301ca79fbrow0_col6 {\n            color:  red;\n        }    #T_85a03e4a_0d43_11eb_9439_c4b301ca79fbrow0_col7 {\n            color:  red;\n        }    #T_85a03e4a_0d43_11eb_9439_c4b301ca79fbrow0_col8 {\n            color:  red;\n        }    #T_85a03e4a_0d43_11eb_9439_c4b301ca79fbrow0_col9 {\n            color:  red;\n        }    #T_85a03e4a_0d43_11eb_9439_c4b301ca79fbrow0_col10 {\n            color:  red;\n        }</style><table id=\"T_85a03e4a_0d43_11eb_9439_c4b301ca79fb\" ><thead>    <tr>        <th class=\"blank level0\" ></th>        <th class=\"col_heading level0 col0\" colspan=11>consistency</th>    </tr>    <tr>        <th class=\"blank level1\" ></th>        <th class=\"col_heading level1 col0\" >Investigation -> Unsolved or not arrested OUT</th>        <th class=\"col_heading level1 col1\" >Investigation -> Arrest</th>        <th class=\"col_heading level1 col2\" >Arrest -> Charges filed</th>        <th class=\"col_heading level1 col3\" >Arrest -> Released OUT</th>        <th class=\"col_heading level1 col4\" >Charges filed -> Court initial appearance</th>        <th class=\"col_heading level1 col5\" >Charges filed -> Diversion</th>        <th class=\"col_heading level1 col6\" >Diversion -> Released OUT</th>        <th class=\"col_heading level1 col7\" >Diversion -> Court initial appearance</th>        <th class=\"col_heading level1 col8\" >Sentencing -> Prison and alternatives</th>        <th class=\"col_heading level1 col9\" >Sentencing -> Prison only</th>        <th class=\"col_heading level1 col10\" >Sentencing -> Fine only</th>    </tr></thead><tbody>\n                <tr>\n                        <th id=\"T_85a03e4a_0d43_11eb_9439_c4b301ca79fblevel0_row0\" class=\"row_heading level0 row0\" >All Defendants</th>\n                        <td id=\"T_85a03e4a_0d43_11eb_9439_c4b301ca79fbrow0_col0\" class=\"data row0 col0\" >0.559</td>\n                        <td id=\"T_85a03e4a_0d43_11eb_9439_c4b301ca79fbrow0_col1\" class=\"data row0 col1\" >0.559</td>\n                        <td id=\"T_85a03e4a_0d43_11eb_9439_c4b301ca79fbrow0_col2\" class=\"data row0 col2\" >0.606</td>\n                        <td id=\"T_85a03e4a_0d43_11eb_9439_c4b301ca79fbrow0_col3\" class=\"data row0 col3\" >0.606</td>\n                        <td id=\"T_85a03e4a_0d43_11eb_9439_c4b301ca79fbrow0_col4\" class=\"data row0 col4\" >0.707</td>\n                        <td id=\"T_85a03e4a_0d43_11eb_9439_c4b301ca79fbrow0_col5\" class=\"data row0 col5\" >0.707</td>\n                        <td id=\"T_85a03e4a_0d43_11eb_9439_c4b301ca79fbrow0_col6\" class=\"data row0 col6\" >0.744</td>\n                        <td id=\"T_85a03e4a_0d43_11eb_9439_c4b301ca79fbrow0_col7\" class=\"data row0 col7\" >0.744</td>\n                        <td id=\"T_85a03e4a_0d43_11eb_9439_c4b301ca79fbrow0_col8\" class=\"data row0 col8\" >0.628</td>\n                        <td id=\"T_85a03e4a_0d43_11eb_9439_c4b301ca79fbrow0_col9\" class=\"data row0 col9\" >0.576</td>\n                        <td id=\"T_85a03e4a_0d43_11eb_9439_c4b301ca79fbrow0_col10\" class=\"data row0 col10\" >0.797</td>\n            </tr>\n    </tbody></table>"
     },
     "metadata": {},
     "execution_count": 6
    }
   ],
   "source": [
    "consistency_table(fp, df)"
   ]
  }
 ]
}